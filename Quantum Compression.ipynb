{
 "cells": [
  {
   "cell_type": "code",
   "execution_count": 1,
   "metadata": {},
   "outputs": [],
   "source": [
    "import cirq\n",
    "import numpy as np\n",
    "import matplotlib.pyplot as plt \n",
    "\n",
    "from cirq import Circuit\n",
    "from cirq.devices import GridQubit\n",
    "from cirq.google import XmonSimulator"
   ]
  },
  {
   "cell_type": "markdown",
   "metadata": {},
   "source": [
    "# Quantum Compression\n",
    "\n",
    "\n",
    "## Introduction\n",
    "Goal: Simulate an Ising chain of n-qubits, using only log(n) qubits. Specifically, the paper does a four qubit Ising chain using two qubits. We must decompose the circuits for compressed simulation into the available gate set. We must also run the experiment often enough so that statistical errors are reduced. Systematic errors must be estimated using independent controlled circuits of  similar complexity to the one of interest. Since we are running in simulation via Cirq, this may be less of an issue. (Draft, info pulled from paper)\n",
    "\n",
    "We use the following set up in Cirq for the rest of the tutorial."
   ]
  },
  {
   "cell_type": "code",
   "execution_count": 2,
   "metadata": {
    "scrolled": true
   },
   "outputs": [],
   "source": [
    "qubits = cirq.LineQubit.range(3)\n",
    "qubit0, qubit1, qubit2 = qubits\n",
    "\n",
    "circuit = cirq.Circuit()"
   ]
  },
  {
   "cell_type": "markdown",
   "metadata": {},
   "source": [
    "## Step 1\n",
    "Prepare the input state $\\rho_{i n} = \\frac{1}{2^{m-1}} I^{\\otimes m-1} \\otimes |+_{y} \\rangle \\langle+_{y} |$ where $Y |+_{y} \\rangle=|+_{y} \\rangle$ by applying $S^{\\dagger}H$ on qubit $0$, $H$ on an auxilirary qubit $2$, and $CNOT$ on qubits $1$ and $2$ with qubit $1$ being the target and qubit $2$ the control."
   ]
  },
  {
   "cell_type": "code",
   "execution_count": 3,
   "metadata": {},
   "outputs": [
    {
     "data": {
      "text/html": [
       "<pre style=\"overflow: auto; white-space: pre;\">0: ───H───S^-1───────────\n",
       "\n",
       "1: ──────────────────X───\n",
       "                     │\n",
       "2: ──────────────H───@───</pre>"
      ],
      "text/plain": [
       "0: ───H───S^-1───────────\n",
       "\n",
       "1: ──────────────────X───\n",
       "                     │\n",
       "2: ──────────────H───@───"
      ]
     },
     "execution_count": 3,
     "metadata": {},
     "output_type": "execute_result"
    }
   ],
   "source": [
    "circuit.append([cirq.H(qubit0)])\n",
    "circuit.append([cirq.S(qubit0)**-1])\n",
    "circuit.append([cirq.H(qubit2)])\n",
    "circuit.append([cirq.CNOT(control=qubit2, target=qubit1)])\n",
    "\n",
    "circuit"
   ]
  },
  {
   "cell_type": "markdown",
   "metadata": {},
   "source": [
    "## Step 2\n",
    "\n",
    "Evolve the system up to the desired value of $J$, which in this particular case is $J = 1$, by decomposing the evolutionary operator $W(J)=\\prod_{l=1}^{L(J)} U_{d} R_{l}^{T} R_{0}^{T}$ into the Clifford+T gate set. This is done, rather than decomposing each step in the adiabatic evolution $U_{d} R_{l}^{T} R_{0}^{T}$, in order to keep the total circuit depth practically feasible."
   ]
  },
  {
   "cell_type": "code",
   "execution_count": 4,
   "metadata": {},
   "outputs": [
    {
     "data": {
      "text/html": [
       "<pre style=\"overflow: auto; white-space: pre;\">0: ───H───S^-1───────────H───@───Z───H───@───S───────H───────@───T───H───T───\n",
       "                             │           │                   │\n",
       "1: ──────────────────X───────X───────────X───────T───────Z───X───────────────\n",
       "                     │\n",
       "2: ──────────────H───@───────────────────────────────────────────────────────</pre>"
      ],
      "text/plain": [
       "0: ───H───S^-1───────────H───@───Z───H───@───S───────H───────@───T───H───T───\n",
       "                             │           │                   │\n",
       "1: ──────────────────X───────X───────────X───────T───────Z───X───────────────\n",
       "                     │\n",
       "2: ──────────────H───@───────────────────────────────────────────────────────"
      ]
     },
     "execution_count": 4,
     "metadata": {},
     "output_type": "execute_result"
    }
   ],
   "source": [
    "circuit.append([cirq.H(qubit0)])\n",
    "circuit.append([cirq.CNOT(control=qubit0, target=qubit1)])\n",
    "circuit.append([cirq.Z(qubit0)])\n",
    "circuit.append([cirq.H(qubit0)])\n",
    "circuit.append([cirq.CNOT(control=qubit0, target=qubit1)])\n",
    "circuit.append([cirq.S(qubit0)])\n",
    "circuit.append([cirq.T(qubit1)])\n",
    "circuit.append([cirq.H(qubit0)])\n",
    "circuit.append([cirq.Z(qubit1)])\n",
    "circuit.append([cirq.CNOT(control=qubit0, target=qubit1)])\n",
    "circuit.append([cirq.T(qubit0)])\n",
    "circuit.append([cirq.H(qubit0)])\n",
    "circuit.append([cirq.T(qubit0)])\n",
    "\n",
    "circuit"
   ]
  },
  {
   "cell_type": "markdown",
   "metadata": {},
   "source": [
    "Apply $(THS)^4$ on qubit $0$:"
   ]
  },
  {
   "cell_type": "code",
   "execution_count": 5,
   "metadata": {},
   "outputs": [
    {
     "data": {
      "text/html": [
       "<pre style=\"overflow: auto; white-space: pre;\">0: ───H───S^-1───────────H───@───Z───H───@───S───────H───────@───T───H───T───S───H───T───S───H───T───S───H───T───S───H───T───\n",
       "                             │           │                   │\n",
       "1: ──────────────────X───────X───────────X───────T───────Z───X───────────────────────────────────────────────────────────────\n",
       "                     │\n",
       "2: ──────────────H───@───────────────────────────────────────────────────────────────────────────────────────────────────────</pre>"
      ],
      "text/plain": [
       "0: ───H───S^-1───────────H───@───Z───H───@───S───────H───────@───T───H───T───S───H───T───S───H───T───S───H───T───S───H───T───\n",
       "                             │           │                   │\n",
       "1: ──────────────────X───────X───────────X───────T───────Z───X───────────────────────────────────────────────────────────────\n",
       "                     │\n",
       "2: ──────────────H───@───────────────────────────────────────────────────────────────────────────────────────────────────────"
      ]
     },
     "execution_count": 5,
     "metadata": {},
     "output_type": "execute_result"
    }
   ],
   "source": [
    "for _ in range(4):\n",
    "    circuit.append([cirq.S(qubit0)])\n",
    "    circuit.append([cirq.H(qubit0)])\n",
    "    circuit.append([cirq.T(qubit0)])\n",
    "\n",
    "circuit"
   ]
  },
  {
   "cell_type": "code",
   "execution_count": 6,
   "metadata": {},
   "outputs": [
    {
     "data": {
      "text/html": [
       "<pre style=\"overflow: auto; white-space: pre;\">0: ───H───S^-1───────────H───@───Z───H───@───S───────H───────@───T───H───T───S───H───T───S───H───T───S───H───T───S───H───T───H───T───H───T^-1───H───T^-1───H───T───Z───H───\n",
       "                             │           │                   │\n",
       "1: ──────────────────X───────X───────────X───────T───────Z───X─────────────────────────────────────────────────────────────────────────────────────────────────────────────\n",
       "                     │\n",
       "2: ──────────────H───@─────────────────────────────────────────────────────────────────────────────────────────────────────────────────────────────────────────────────────</pre>"
      ],
      "text/plain": [
       "0: ───H───S^-1───────────H───@───Z───H───@───S───────H───────@───T───H───T───S───H───T───S───H───T───S───H───T───S───H───T───H───T───H───T^-1───H───T^-1───H───T───Z───H───\n",
       "                             │           │                   │\n",
       "1: ──────────────────X───────X───────────X───────T───────Z───X─────────────────────────────────────────────────────────────────────────────────────────────────────────────\n",
       "                     │\n",
       "2: ──────────────H───@─────────────────────────────────────────────────────────────────────────────────────────────────────────────────────────────────────────────────────"
      ]
     },
     "execution_count": 6,
     "metadata": {},
     "output_type": "execute_result"
    }
   ],
   "source": [
    "circuit.append([cirq.H(qubit0)])\n",
    "circuit.append([cirq.T(qubit0)])\n",
    "circuit.append([cirq.H(qubit0)])\n",
    "circuit.append([cirq.T(qubit0)**-1])\n",
    "circuit.append([cirq.H(qubit0)])\n",
    "circuit.append([cirq.T(qubit0)**-1])\n",
    "circuit.append([cirq.H(qubit0)])\n",
    "circuit.append([cirq.T(qubit0)])\n",
    "circuit.append([cirq.Z(qubit0)])\n",
    "circuit.append([cirq.H(qubit0)])\n",
    "\n",
    "circuit"
   ]
  },
  {
   "cell_type": "markdown",
   "metadata": {},
   "source": [
    "## Step 3\n",
    "\n",
    "Measure $Y$ on qubit $0$ to obtain the magnetization. In particular, ... [Henry eigenspaces, expected value, etc https://docs.microsoft.com/en-us/quantum/concepts/pauli-measurements?view=qsharp-preview]"
   ]
  },
  {
   "cell_type": "code",
   "execution_count": 7,
   "metadata": {},
   "outputs": [],
   "source": [
    "#circuit.append([cirq.S(qubit0)**-1])\n",
    "#circuit.append([cirq.H(qubit0)])"
   ]
  },
  {
   "cell_type": "markdown",
   "metadata": {},
   "source": [
    "Preserve the wave function of the system prior to measurement:"
   ]
  },
  {
   "cell_type": "code",
   "execution_count": 8,
   "metadata": {},
   "outputs": [],
   "source": [
    "simulator = cirq.Simulator()\n",
    "wave_function = simulator.simulate(circuit, qubit_order=qubits)"
   ]
  },
  {
   "cell_type": "markdown",
   "metadata": {},
   "source": [
    "## Wave Function\n",
    "\n",
    "Victor / whoever else "
   ]
  },
  {
   "cell_type": "code",
   "execution_count": 9,
   "metadata": {},
   "outputs": [
    {
     "data": {
      "text/plain": [
       "SimulationTrialResult(params=cirq.ParamResolver({}), measurements={}, final_state=array([-0.25758246-0.39330566j,  0.39330566-0.25758246j,\n",
       "       -0.09597082+0.46024746j,  0.46024746+0.09597082j,\n",
       "       -0.13258249+0.10669411j, -0.10669411-0.13258249j,\n",
       "        0.1691941 +0.01830583j,  0.01830583-0.1691941j ], dtype=complex64))"
      ]
     },
     "execution_count": 9,
     "metadata": {},
     "output_type": "execute_result"
    }
   ],
   "source": [
    "wave_function"
   ]
  },
  {
   "cell_type": "markdown",
   "metadata": {},
   "source": [
    "###  Calculate Expected Value of Wave Function"
   ]
  },
  {
   "cell_type": "code",
   "execution_count": 10,
   "metadata": {
    "scrolled": true
   },
   "outputs": [
    {
     "data": {
      "text/plain": [
       "-0.7683054202225357"
      ]
     },
     "execution_count": 10,
     "metadata": {},
     "output_type": "execute_result"
    }
   ],
   "source": [
    "final_state = wave_function.final_state\n",
    "\n",
    "p_qubit0_0 = (sum([np.absolute(i)**2 for i in final_state[0:4]]))\n",
    "p_qubit0_1 = (sum([np.absolute(i)**2 for i in final_state[4:8]]))\n",
    "\n",
    "exp_val_wfn = -1 * p_qubit0_0 + 1 * p_qubit0_1\n",
    "\n",
    "exp_val_wfn"
   ]
  },
  {
   "cell_type": "markdown",
   "metadata": {},
   "source": [
    "## Measured Outcome\n",
    "Akash\n",
    "\n",
    "We set up our simulator to run 1,000,000 times. First we add our measurement gate."
   ]
  },
  {
   "cell_type": "code",
   "execution_count": 11,
   "metadata": {},
   "outputs": [
    {
     "data": {
      "text/html": [
       "<pre style=\"overflow: auto; white-space: pre;\">0: ───H───S^-1───────────H───@───Z───H───@───S───────H───────@───T───H───T───S───H───T───S───H───T───S───H───T───S───H───T───H───T───H───T^-1───H───T^-1───H───T───Z───H───M('x')───\n",
       "                             │           │                   │\n",
       "1: ──────────────────X───────X───────────X───────T───────Z───X──────────────────────────────────────────────────────────────────────────────────────────────────────────────────────\n",
       "                     │\n",
       "2: ──────────────H───@──────────────────────────────────────────────────────────────────────────────────────────────────────────────────────────────────────────────────────────────</pre>"
      ],
      "text/plain": [
       "0: ───H───S^-1───────────H───@───Z───H───@───S───────H───────@───T───H───T───S───H───T───S───H───T───S───H───T───S───H───T───H───T───H───T^-1───H───T^-1───H───T───Z───H───M('x')───\n",
       "                             │           │                   │\n",
       "1: ──────────────────X───────X───────────X───────T───────Z───X──────────────────────────────────────────────────────────────────────────────────────────────────────────────────────\n",
       "                     │\n",
       "2: ──────────────H───@──────────────────────────────────────────────────────────────────────────────────────────────────────────────────────────────────────────────────────────────"
      ]
     },
     "execution_count": 11,
     "metadata": {},
     "output_type": "execute_result"
    }
   ],
   "source": [
    "circuit.append([cirq.measure(qubit0, key='x')])\n",
    "circuit"
   ]
  },
  {
   "cell_type": "code",
   "execution_count": 12,
   "metadata": {},
   "outputs": [
    {
     "data": {
      "text/plain": [
       "cirq.TrialResult(params=cirq.ParamResolver({}), repetitions=1000000, measurements={'x': array([[False],\n",
       "       [False],\n",
       "       [False],\n",
       "       ...,\n",
       "       [False],\n",
       "       [ True],\n",
       "       [False]])})"
      ]
     },
     "execution_count": 12,
     "metadata": {},
     "output_type": "execute_result"
    }
   ],
   "source": [
    "n = 1000000\n",
    "results = simulator.run(circuit, repetitions=n)\n",
    "results"
   ]
  },
  {
   "cell_type": "markdown",
   "metadata": {},
   "source": [
    "### Create normalized histogram of results"
   ]
  },
  {
   "cell_type": "code",
   "execution_count": 13,
   "metadata": {},
   "outputs": [
    {
     "name": "stdout",
     "output_type": "stream",
     "text": [
      "Counter({0: 0.883906, 1: 0.116094})\n"
     ]
    },
    {
     "data": {
      "image/png": "[encoded data removed]",
      "text/plain": [
       "<Figure size 432x288 with 1 Axes>"
      ]
     },
     "metadata": {
      "needs_background": "light"
     },
     "output_type": "display_data"
    }
   ],
   "source": [
    "hist = results.histogram(key='x')\n",
    "\n",
    "for k in hist:\n",
    "    v = hist[k]\n",
    "    hist[k] = v / n\n",
    "    \n",
    "print(hist)\n",
    "\n",
    "plt.bar(range(len(hist)), hist.values(), align='center')\n",
    "plt.xticks(range(len(hist)), list(hist.keys()))\n",
    "\n",
    "plt.show()"
   ]
  },
  {
   "cell_type": "markdown",
   "metadata": {},
   "source": [
    "Calculate the expected value."
   ]
  },
  {
   "cell_type": "code",
   "execution_count": 14,
   "metadata": {},
   "outputs": [
    {
     "data": {
      "text/plain": [
       "-0.7678119999999999"
      ]
     },
     "execution_count": 14,
     "metadata": {},
     "output_type": "execute_result"
    }
   ],
   "source": [
    "p0 = hist[0]\n",
    "p1 = hist[1]\n",
    "\n",
    "exp_val_meas = 1 * p1 - 1 * p0\n",
    "\n",
    "exp_val_meas"
   ]
  },
  {
   "cell_type": "markdown",
   "metadata": {},
   "source": [
    "# Theoretical Prediction\n",
    "Allen and Henry"
   ]
  },
  {
   "cell_type": "markdown",
   "metadata": {},
   "source": [
    "# Final Results\n",
    "We can now compare our three results: the simulation (finite number of runs), the wavefuntion from the circuit (limit of infinite runs) and the theoretical prediction from the actual Ising Model."
   ]
  },
  {
   "cell_type": "code",
   "execution_count": 15,
   "metadata": {},
   "outputs": [
    {
     "data": {
      "text/plain": [
       "(5.147478984872145, 5.2083950617284085)"
      ]
     },
     "execution_count": 15,
     "metadata": {},
     "output_type": "execute_result"
    }
   ],
   "source": [
    "#placeholder that I see visually from the papers -Allen\n",
    "theo_val = -0.81\n",
    "error_wfn = 100 * (theo_val - exp_val_wfn) / theo_val\n",
    "error_meas = 100 * (theo_val - exp_val_meas) / theo_val\n",
    "\n",
    "error_wfn, error_meas"
   ]
  },
  {
   "cell_type": "markdown",
   "metadata": {},
   "source": [
    "Both of our results have about 21% error, which is consistent with the results of Hebenstreait et al. for a four-qubit spin chain simulation.\n"
   ]
  },
  {
   "cell_type": "code",
   "execution_count": null,
   "metadata": {},
   "outputs": [],
   "source": []
  }
 ],
 "metadata": {
  "kernelspec": {
   "display_name": "Python 3",
   "language": "python",
   "name": "python3"
  },
  "language_info": {
   "codemirror_mode": {
    "name": "ipython",
    "version": 3
   },
   "file_extension": ".py",
   "mimetype": "text/x-python",
   "name": "python",
   "nbconvert_exporter": "python",
   "pygments_lexer": "ipython3",
   "version": "3.6.2"
  }
 },
 "nbformat": 4,
 "nbformat_minor": 2
}
