{
 "cells": [
  {
   "cell_type": "code",
   "execution_count": 2,
   "metadata": {},
   "outputs": [],
   "source": [
    "import cirq\n",
    "import numpy as np\n",
    "\n",
    "from cirq import Circuit\n",
    "from cirq.devices import GridQubit\n",
    "from cirq.google import XmonSimulator\n",
    "\n",
    "n = 4"
   ]
  },
  {
   "cell_type": "code",
   "execution_count": 3,
   "metadata": {},
   "outputs": [
    {
     "name": "stdout",
     "output_type": "stream",
     "text": [
      "[cirq.GridQubit(0, 0), cirq.GridQubit(0, 1), cirq.GridQubit(0, 2), cirq.GridQubit(0, 3), cirq.GridQubit(1, 0), cirq.GridQubit(1, 1), cirq.GridQubit(1, 2), cirq.GridQubit(1, 3), cirq.GridQubit(2, 0), cirq.GridQubit(2, 1), cirq.GridQubit(2, 2), cirq.GridQubit(2, 3), cirq.GridQubit(3, 0), cirq.GridQubit(3, 1), cirq.GridQubit(3, 2), cirq.GridQubit(3, 3)]\n"
     ]
    }
   ],
   "source": [
    "qubits = [cirq.GridQubit(x, y) for x in range(n) for y in range(n)]\n",
    "print(qubits)"
   ]
  },
  {
   "cell_type": "code",
   "execution_count": null,
   "metadata": {},
   "outputs": [],
   "source": [
    "# Goal: Simulate an Ising chain of n-qubits, using only log(n) qubits\n",
    "# Specifically, the paper does a four qubit Ising chain using two qubits\n",
    "# We must decompose the circuits for compressed simulation into the available gate set.\n",
    "# We must also run the experiment often enough so that statistical errors are reduced\n",
    "# Systematic errors must be estimated using independent controlled circuits of \n",
    "# similar complexity to the one of interest. Since we are running in simulation via Cirq, this may be less of an issue."
   ]
  },
  {
   "cell_type": "code",
   "execution_count": 4,
   "metadata": {},
   "outputs": [
    {
     "name": "stdout",
     "output_type": "stream",
     "text": [
      "(0, 0): ───@───────\n",
      "           │\n",
      "(0, 1): ───@───@───\n",
      "               │\n",
      "(0, 2): ───X───@───\n"
     ]
    }
   ],
   "source": [
    "cz01 = cirq.CZ(qubits[0], qubits[1])\n",
    "x2 = cirq.X(qubits[2])\n",
    "cz12 = cirq.CZ(qubits[1], qubits[2])\n",
    "moment0 = cirq.Moment([cz01, x2])\n",
    "moment1 = cirq.Moment([cz12])\n",
    "circuit = cirq.Circuit((moment0, moment1))\n",
    "\n",
    "print(circuit)"
   ]
  },
  {
   "cell_type": "code",
   "execution_count": 10,
   "metadata": {},
   "outputs": [],
   "source": [
    "def s_dag():\n",
    "    shape = (2, 2)\n",
    "    gate = np.zeros(shape, dtype=np.complex_)\n",
    "    gate[0][0] = 1.0\n",
    "    gate[0][1] = 0.0\n",
    "    gate[1][0] = 0.0\n",
    "    gate[1][1] = -1j\n",
    "    return cirq.SingleQubitMatrixGate(gate)\n",
    "\n",
    "SDag = s_dag()"
   ]
  },
  {
   "cell_type": "code",
   "execution_count": 31,
   "metadata": {
    "scrolled": true
   },
   "outputs": [
    {
     "data": {
      "text/html": [
       "<pre style=\"overflow: auto; white-space: pre;\">0: ───H───S^-1───H───@───Z───H───@───S───H───@───T───H───T───S───H───T───S───H───T───S───H───T───S───H───T───H───T───H───T^-1───H───T^-1───H───T───Z───H───\n",
       "                     │           │           │\n",
       "1: ───────X──────────X───────────X───T───Z───X─────────────────────────────────────────────────────────────────────────────────────────────────────────────\n",
       "          │\n",
       "2: ───H───@────────────────────────────────────────────────────────────────────────────────────────────────────────────────────────────────────────────────</pre>"
      ],
      "text/plain": [
       "0: ───H───S^-1───H───@───Z───H───@───S───H───@───T───H───T───S───H───T───S───H───T───S───H───T───S───H───T───H───T───H───T^-1───H───T^-1───H───T───Z───H───\n",
       "                     │           │           │\n",
       "1: ───────X──────────X───────────X───T───Z───X─────────────────────────────────────────────────────────────────────────────────────────────────────────────\n",
       "          │\n",
       "2: ───H───@────────────────────────────────────────────────────────────────────────────────────────────────────────────────────────────────────────────────"
      ]
     },
     "execution_count": 31,
     "metadata": {},
     "output_type": "execute_result"
    }
   ],
   "source": [
    "def ising_circuit():\n",
    "    circuit = cirq.Circuit()\n",
    "    first, second, third = cirq.LineQubit.range(3)\n",
    "    \n",
    "    circuit.append([cirq.H(first), cirq.H(third)])\n",
    "    circuit.append([cirq.S(first)**-1, cirq.CNOT(control=third, target=second)])\n",
    "    circuit.append([cirq.H(first)])\n",
    "    \n",
    "    circuit.append([cirq.CNOT(control=first, target=second)])\n",
    "    circuit.append([cirq.Z(first)])\n",
    "    circuit.append([cirq.H(first)])\n",
    "    circuit.append([cirq.CNOT(control=first, target=second)])\n",
    "    circuit.append([cirq.S(first), cirq.T(second)])\n",
    "    circuit.append([cirq.H(first), cirq.Z(second)])\n",
    "    circuit.append([cirq.CNOT(control=first, target=second)])\n",
    "    circuit.append([cirq.T(first)])\n",
    "    circuit.append([cirq.H(first)])\n",
    "    circuit.append([cirq.T(first)])\n",
    "    \n",
    "    # S-H-T * 4 on first qubit\n",
    "    for _ in range(4):\n",
    "        circuit.append([cirq.S(first)])\n",
    "        circuit.append([cirq.H(first)])\n",
    "        circuit.append([cirq.T(first)])\n",
    "\n",
    "    # H T H T-1 H T-1 H T Z H Measurement\n",
    "    circuit.append([cirq.H(first)])\n",
    "    circuit.append([cirq.T(first)])\n",
    "    circuit.append([cirq.H(first)])\n",
    "    circuit.append([cirq.T(first)**-1])\n",
    "    circuit.append([cirq.H(first)])\n",
    "    circuit.append([cirq.T(first)**-1])\n",
    "    circuit.append([cirq.H(first)])\n",
    "    circuit.append([cirq.T(first)])\n",
    "    circuit.append([cirq.Z(first)])\n",
    "    circuit.append([cirq.H(first)])\n",
    "\n",
    "    return circuit\n",
    "  \n",
    "ising_circuit()"
   ]
  },
  {
   "cell_type": "code",
   "execution_count": null,
   "metadata": {},
   "outputs": [],
   "source": [
    "# J = 1\n",
    "# https://github.com/quantumlib/Cirq/blob/master/examples/quantum_teleportation.py\n",
    "    # Creates Bell state to be shared between Alice and Bob\n",
    "    circuit.append([cirq.H(alice), cirq.CNOT(alice, bob)])\n",
    "    # Creates a random state for the Message\n",
    "    circuit.append([cirq.X(msg)**ranX, cirq.Y(msg)**ranY])\n",
    "    # Bell measurement of the Message and Alice's entangled qubit\n",
    "    circuit.append([cirq.CNOT(msg, alice), cirq.H(msg)])\n",
    "    circuit.append(cirq.measure(msg, alice))\n",
    "    # Uses the two classical bits from the Bell measurement to recover the\n",
    "    # original quantum Message on Bob's entangled qubit\n",
    "    circuit.append([cirq.CNOT(alice, bob), cirq.CZ(msg, bob)])"
   ]
  }
 ],
 "metadata": {
  "kernelspec": {
   "display_name": "Python 3",
   "language": "python",
   "name": "python3"
  },
  "language_info": {
   "codemirror_mode": {
    "name": "ipython",
    "version": 3
   },
   "file_extension": ".py",
   "mimetype": "text/x-python",
   "name": "python",
   "nbconvert_exporter": "python",
   "pygments_lexer": "ipython3",
   "version": "3.7.3"
  }
 },
 "nbformat": 4,
 "nbformat_minor": 2
}
