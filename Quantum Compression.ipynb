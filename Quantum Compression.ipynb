{
 "cells": [
  {
   "cell_type": "code",
   "execution_count": 22,
   "metadata": {},
   "outputs": [],
   "source": [
    "import cirq\n",
    "import numpy as np\n",
    "\n",
    "from cirq import Circuit\n",
    "from cirq.devices import GridQubit\n",
    "from cirq.google import XmonSimulator"
   ]
  },
  {
   "cell_type": "markdown",
   "metadata": {},
   "source": [
    "# Quantum Compression\n",
    "\n",
    "Goal: Simulate an Ising chain of n-qubits, using only log(n) qubits. Specifically, the paper does a four qubit Ising chain using two qubits. We must decompose the circuits for compressed simulation into the available gate set. We must also run the experiment often enough so that statistical errors are reduced. Systematic errors must be estimated using independent controlled circuits of  similar complexity to the one of interest. Since we are running in simulation via Cirq, this may be less of an issue. (Draft, info pulled from paper)"
   ]
  },
  {
   "cell_type": "code",
   "execution_count": 24,
   "metadata": {
    "scrolled": true
   },
   "outputs": [],
   "source": [
    "qubits = cirq.LineQubit.range(3)\n",
    "first, second, third = qubits\n",
    "circuit = cirq.Circuit()"
   ]
  },
  {
   "cell_type": "markdown",
   "metadata": {},
   "source": [
    "# Circuit"
   ]
  },
  {
   "cell_type": "code",
   "execution_count": 25,
   "metadata": {},
   "outputs": [
    {
     "data": {
      "text/html": [
       "<pre style=\"overflow: auto; white-space: pre;\">0: ───H───S^-1───H───\n",
       "\n",
       "1: ───────X──────────\n",
       "          │\n",
       "2: ───H───@──────────</pre>"
      ],
      "text/plain": [
       "0: ───H───S^-1───H───\n",
       "\n",
       "1: ───────X──────────\n",
       "          │\n",
       "2: ───H───@──────────"
      ]
     },
     "execution_count": 25,
     "metadata": {},
     "output_type": "execute_result"
    }
   ],
   "source": [
    "circuit.append([cirq.H(first), cirq.H(third)])\n",
    "circuit.append([cirq.S(first)**-1, cirq.CNOT(control=third, target=second)])\n",
    "circuit.append([cirq.H(first)])\n",
    "circuit    "
   ]
  },
  {
   "cell_type": "code",
   "execution_count": 26,
   "metadata": {},
   "outputs": [
    {
     "data": {
      "text/html": [
       "<pre style=\"overflow: auto; white-space: pre;\">0: ───H───S^-1───H───@───Z───H───@───S───H───@───T───H───T───S───H───T───S───H───T───S───H───T───S───H───T───H───T───H───T^-1───H───T^-1───H───T───Z───H───S^-1───H───\n",
       "                     │           │           │\n",
       "1: ───────X──────────X───────────X───T───Z───X────────────────────────────────────────────────────────────────────────────────────────────────────────────────────────\n",
       "          │\n",
       "2: ───H───@───────────────────────────────────────────────────────────────────────────────────────────────────────────────────────────────────────────────────────────</pre>"
      ],
      "text/plain": [
       "0: ───H───S^-1───H───@───Z───H───@───S───H───@───T───H───T───S───H───T───S───H───T───S───H───T───S───H───T───H───T───H───T^-1───H───T^-1───H───T───Z───H───S^-1───H───\n",
       "                     │           │           │\n",
       "1: ───────X──────────X───────────X───T───Z───X────────────────────────────────────────────────────────────────────────────────────────────────────────────────────────\n",
       "          │\n",
       "2: ───H───@───────────────────────────────────────────────────────────────────────────────────────────────────────────────────────────────────────────────────────────"
      ]
     },
     "execution_count": 26,
     "metadata": {},
     "output_type": "execute_result"
    }
   ],
   "source": [
    "circuit.append([cirq.CNOT(control=first, target=second)])\n",
    "circuit.append([cirq.Z(first)])\n",
    "circuit.append([cirq.H(first)])\n",
    "circuit.append([cirq.CNOT(control=first, target=second)])\n",
    "circuit.append([cirq.S(first), cirq.T(second)])\n",
    "circuit.append([cirq.H(first), cirq.Z(second)])\n",
    "circuit.append([cirq.CNOT(control=first, target=second)])\n",
    "circuit.append([cirq.T(first)])\n",
    "circuit.append([cirq.H(first)])\n",
    "circuit.append([cirq.T(first)])\n",
    "circuit\n",
    "\n",
    "\n",
    "# S-H-T * 4 on first qubit\n",
    "for _ in range(4):\n",
    "    circuit.append([cirq.S(first)])\n",
    "    circuit.append([cirq.H(first)])\n",
    "    circuit.append([cirq.T(first)])\n",
    "circuit\n",
    "\n",
    "    \n",
    "# H T H T-1 H T-1 H T Z H Measurement\n",
    "circuit.append([cirq.H(first)])\n",
    "circuit.append([cirq.T(first)])\n",
    "circuit.append([cirq.H(first)])\n",
    "circuit.append([cirq.T(first)**-1])\n",
    "circuit.append([cirq.H(first)])\n",
    "circuit.append([cirq.T(first)**-1])\n",
    "circuit.append([cirq.H(first)])\n",
    "circuit.append([cirq.T(first)])\n",
    "circuit.append([cirq.Z(first)])\n",
    "circuit.append([cirq.H(first)])\n",
    "circuit\n",
    "\n",
    "# Measure in the Y basis\n",
    "circuit.append([cirq.S(first)**-1])\n",
    "circuit.append([cirq.H(first)])\n",
    "circuit"
   ]
  },
  {
   "cell_type": "markdown",
   "metadata": {},
   "source": [
    "# Measurement\n",
    "\n",
    "Measure in the Y basis"
   ]
  },
  {
   "cell_type": "code",
   "execution_count": 29,
   "metadata": {},
   "outputs": [
    {
     "name": "stdout",
     "output_type": "stream",
     "text": [
      "[ 0.        +0.j          0.        +0.j          0.        +0.j\n",
      "  0.        +0.j         -0.28471065-0.41102272j  0.41102272-0.28471065j\n",
      " -0.08931614+0.4919578j   0.4919578 +0.08931614j]\n",
      "expected value:  -0.9999993443490158\n"
     ]
    }
   ],
   "source": [
    "reps = 100\n",
    "\n",
    "simulator = cirq.Simulator()\n",
    "wave_function = simulator.simulate(circuit, qubit_order=qubits)\n",
    "res = wave_function.final_state\n",
    "print(res)\n",
    "#assuming dictionary ordering\n",
    "pos = (sum([np.absolute(i)**2 for i in res[0:4]]))\n",
    "neg = (sum([np.absolute(i)**2 for i in res[4:8]]))\n",
    "print(\"expected value: \", pos - neg)"
   ]
  },
  {
   "cell_type": "code",
   "execution_count": 31,
   "metadata": {},
   "outputs": [],
   "source": [
    "circuit.append([cirq.measure(first, key='x')])\n",
    "results = simulator.run(circuit, repetitions=reps)"
   ]
  },
  {
   "cell_type": "code",
   "execution_count": 14,
   "metadata": {},
   "outputs": [
    {
     "name": "stdout",
     "output_type": "stream",
     "text": [
      "OrderedDict([(1, 0.86), (0, 0.14)])\n"
     ]
    }
   ],
   "source": [
    "from collections import OrderedDict\n",
    "\n",
    "hist = OrderedDict(results.histogram(key='x'))\n",
    "for k in hist:\n",
    "    v = hist[k]\n",
    "    hist[k] = v/reps\n",
    "    \n",
    "print(hist)\n",
    "\n",
    "# 0 -> +1\n",
    "# 1 -> -1\n",
    "# hist[-1] = hist[1]\n",
    "# hist[1] = hist[0]\n",
    "# del hist[0]\n",
    "# hist"
   ]
  },
  {
   "cell_type": "code",
   "execution_count": 15,
   "metadata": {},
   "outputs": [
    {
     "data": {
      "text/plain": [
       "measurements: (no measurements)\n",
       "output vector: (-0.107-0.184j)|000⟩ + (0.184-0.107j)|001⟩ + (-0.055+0.206j)|010⟩ + (0.206+0.055j)|011⟩ + (-0.258-0.372j)|100⟩ + (0.372-0.258j)|101⟩ + (-0.081+0.445j)|110⟩ + (0.445+0.081j)|111⟩"
      ]
     },
     "execution_count": 15,
     "metadata": {},
     "output_type": "execute_result"
    }
   ],
   "source": [
    "wave_function"
   ]
  },
  {
   "cell_type": "code",
   "execution_count": 16,
   "metadata": {},
   "outputs": [
    {
     "data": {
      "image/png": "[encoded data removed]",
      "text/plain": [
       "<Figure size 432x288 with 1 Axes>"
      ]
     },
     "metadata": {
      "needs_background": "light"
     },
     "output_type": "display_data"
    }
   ],
   "source": [
    "import matplotlib.pyplot as plt \n",
    "\n",
    "plt.bar(range(len(hist)), hist.values(), align='center')\n",
    "plt.xticks(range(len(hist)), list(hist.keys()))\n",
    "\n",
    "plt.show()"
   ]
  },
  {
   "cell_type": "code",
   "execution_count": 17,
   "metadata": {},
   "outputs": [
    {
     "data": {
      "text/plain": [
       "-0.72"
      ]
     },
     "execution_count": 17,
     "metadata": {},
     "output_type": "execute_result"
    }
   ],
   "source": [
    "exp_val = hist[0] * 1 + hist[1] * -1\n",
    "exp_val"
   ]
  }
 ],
 "metadata": {
  "kernelspec": {
   "display_name": "Python 3",
   "language": "python",
   "name": "python3"
  },
  "language_info": {
   "codemirror_mode": {
    "name": "ipython",
    "version": 3
   },
   "file_extension": ".py",
   "mimetype": "text/x-python",
   "name": "python",
   "nbconvert_exporter": "python",
   "pygments_lexer": "ipython3",
   "version": "3.7.3"
  }
 },
 "nbformat": 4,
 "nbformat_minor": 2
}
