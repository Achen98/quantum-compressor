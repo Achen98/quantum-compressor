{
 "cells": [
  {
   "cell_type": "code",
   "execution_count": 118,
   "metadata": {},
   "outputs": [],
   "source": [
    "import cirq\n",
    "import numpy as np\n",
    "import matplotlib.pyplot as plt \n",
    "\n",
    "from cirq import Circuit\n",
    "from cirq.devices import GridQubit\n",
    "from cirq.google import XmonSimulator"
   ]
  },
  {
   "cell_type": "code",
   "execution_count": 119,
   "metadata": {},
   "outputs": [],
   "source": [
    "# Goal: Simulate an Ising chain of n-qubits, using only log(n) qubits\n",
    "# Specifically, the paper does a four qubit Ising chain using two qubits\n",
    "# We must decompose the circuits for compressed simulation into the available gate set.\n",
    "# We must also run the experiment often enough so that statistical errors are reduced\n",
    "# Systematic errors must be estimated using independent controlled circuits of \n",
    "# similar complexity to the one of interest. Since we are running in simulation via Cirq, this may be less of an issue."
   ]
  },
  {
   "cell_type": "markdown",
   "metadata": {},
   "source": [
    "# Introduction\n",
    "Akash or whoever\n",
    "Goal: Simulate an Ising chain of n-qubits, using only log(n) qubits\n",
    "Specifically, the paper does a four qubit Ising chain using two qubits\n",
    "We must decompose the circuits for compressed simulation into the available gate set.\n",
    "We must also run the experiment often enough so that statistical errors are reduced\n",
    "Systematic errors must be estimated using independent controlled circuits of \n",
    "similar complexity to the one of interest. Since we are running in simulation via Cirq, this may be less of an issue."
   ]
  },
  {
   "cell_type": "markdown",
   "metadata": {},
   "source": [
    "# Step 1\n",
    "Prepare the input state $\\rho_{i n} = \\frac{1}{2^{m-1}} I^{\\otimes m-1} \\otimes |+_{y} \\rangle \\langle+_{y} |$ where $Y |+_{y} \\rangle=|+_{y} \\rangle$ by applying $S^{\\dagger}H$ on qubit $0$, $H$ on an auxilirary qubit $2$, and $CNOT$ on qubits $1$ and $2$ with qubit $1$ being the target and qubit $2$ the control."
   ]
  },
  {
   "cell_type": "code",
   "execution_count": 120,
   "metadata": {},
   "outputs": [
    {
     "data": {
      "text/html": [
       "<pre style=\"overflow: auto; white-space: pre;\">0: ───H───S^-1───\n",
       "\n",
       "1: ───────X──────\n",
       "          │\n",
       "2: ───H───@──────</pre>"
      ],
      "text/plain": [
       "0: ───H───S^-1───\n",
       "\n",
       "1: ───────X──────\n",
       "          │\n",
       "2: ───H───@──────"
      ]
     },
     "execution_count": 120,
     "metadata": {},
     "output_type": "execute_result"
    }
   ],
   "source": [
    "qubits = cirq.LineQubit.range(3)\n",
    "qubit0, qubit1, qubit2 = qubits\n",
    "\n",
    "circuit = cirq.Circuit()\n",
    "\n",
    "circuit.append([cirq.H(qubit0)])\n",
    "circuit.append([cirq.S(qubit0)**-1])\n",
    "circuit.append([cirq.H(qubit2)])\n",
    "circuit.append([cirq.CNOT(control=qubit2, target=qubit1)])\n",
    "\n",
    "circuit"
   ]
  },
  {
   "cell_type": "markdown",
   "metadata": {},
   "source": [
    "# Step 2\n",
    "Evolve the system up to the desired value of $J$, which in this particular case is $J = 1$, by decomposing the evolutionary operator $W(J)=\\prod_{l=1}^{L(J)} U_{d} R_{l}^{T} R_{0}^{T}$ into the Clifford+T gate set. This is done, rather than decomposing each step in the adiabatic evolution $U_{d} R_{l}^{T} R_{0}^{T}$, in order to keep the total circuit depth practically feasible."
   ]
  },
  {
   "cell_type": "code",
   "execution_count": 121,
   "metadata": {
    "scrolled": true
   },
   "outputs": [],
   "source": [
    "circuit.append([cirq.H(qubit0)])\n",
    "circuit.append([cirq.CNOT(control=qubit0, target=qubit1)])\n",
    "circuit.append([cirq.Z(qubit0)])\n",
    "circuit.append([cirq.H(qubit0)])\n",
    "circuit.append([cirq.CNOT(control=qubit0, target=qubit1)])\n",
    "circuit.append([cirq.S(qubit0)])\n",
    "circuit.append([cirq.T(qubit1)])\n",
    "circuit.append([cirq.H(qubit0)])\n",
    "circuit.append([cirq.Z(qubit1)])\n",
    "circuit.append([cirq.CNOT(control=qubit0, target=qubit1)])\n",
    "circuit.append([cirq.T(qubit0)])\n",
    "circuit.append([cirq.H(qubit0)])\n",
    "circuit.append([cirq.T(qubit0)])"
   ]
  },
  {
   "cell_type": "markdown",
   "metadata": {},
   "source": [
    "Apply $(THS)^4$ on qubit $0$:"
   ]
  },
  {
   "cell_type": "code",
   "execution_count": 122,
   "metadata": {},
   "outputs": [],
   "source": [
    "for _ in range(4):\n",
    "    circuit.append([cirq.S(qubit0)])\n",
    "    circuit.append([cirq.H(qubit0)])\n",
    "    circuit.append([cirq.T(qubit0)])"
   ]
  },
  {
   "cell_type": "code",
   "execution_count": 123,
   "metadata": {},
   "outputs": [
    {
     "data": {
      "text/html": [
       "<pre style=\"overflow: auto; white-space: pre;\">0: ───H───S^-1───H───@───Z───H───@───S───H───@───T───H───T───S───H───T───S───H───T───S───H───T───S───H───T───H───T───H───T^-1───H───T^-1───H───T───Z───H───\n",
       "                     │           │           │\n",
       "1: ───────X──────────X───────────X───T───Z───X─────────────────────────────────────────────────────────────────────────────────────────────────────────────\n",
       "          │\n",
       "2: ───H───@────────────────────────────────────────────────────────────────────────────────────────────────────────────────────────────────────────────────</pre>"
      ],
      "text/plain": [
       "0: ───H───S^-1───H───@───Z───H───@───S───H───@───T───H───T───S───H───T───S───H───T───S───H───T───S───H───T───H───T───H───T^-1───H───T^-1───H───T───Z───H───\n",
       "                     │           │           │\n",
       "1: ───────X──────────X───────────X───T───Z───X─────────────────────────────────────────────────────────────────────────────────────────────────────────────\n",
       "          │\n",
       "2: ───H───@────────────────────────────────────────────────────────────────────────────────────────────────────────────────────────────────────────────────"
      ]
     },
     "execution_count": 123,
     "metadata": {},
     "output_type": "execute_result"
    }
   ],
   "source": [
    "circuit.append([cirq.H(qubit0)])\n",
    "circuit.append([cirq.T(qubit0)])\n",
    "circuit.append([cirq.H(qubit0)])\n",
    "circuit.append([cirq.T(qubit0)**-1])\n",
    "circuit.append([cirq.H(qubit0)])\n",
    "circuit.append([cirq.T(qubit0)**-1])\n",
    "circuit.append([cirq.H(qubit0)])\n",
    "circuit.append([cirq.T(qubit0)])\n",
    "circuit.append([cirq.Z(qubit0)])\n",
    "circuit.append([cirq.H(qubit0)])\n",
    "\n",
    "circuit"
   ]
  },
  {
   "cell_type": "markdown",
   "metadata": {},
   "source": [
    "# Step 3\n",
    "Measure $Y$ on qubit $0$ to obtain the magnetization. In particular, ... [Henry eigenspaces, expected value, etc https://docs.microsoft.com/en-us/quantum/concepts/pauli-measurements?view=qsharp-preview]"
   ]
  },
  {
   "cell_type": "code",
   "execution_count": 124,
   "metadata": {},
   "outputs": [],
   "source": [
    "circuit.append([cirq.S(qubit0)**-1])\n",
    "circuit.append([cirq.H(qubit0)])"
   ]
  },
  {
   "cell_type": "markdown",
   "metadata": {},
   "source": [
    "Preserve the wave function of the system prior to measurement:"
   ]
  },
  {
   "cell_type": "code",
   "execution_count": 125,
   "metadata": {},
   "outputs": [],
   "source": [
    "simulator = cirq.Simulator()\n",
    "wave_function = simulator.simulate(circuit, qubit_order=qubits)"
   ]
  },
  {
   "cell_type": "code",
   "execution_count": 126,
   "metadata": {},
   "outputs": [
    {
     "data": {
      "text/html": [
       "<pre style=\"overflow: auto; white-space: pre;\">0: ───H───S^-1───H───@───Z───H───@───S───H───@───T───H───T───S───H───T───S───H───T───S───H───T───S───H───T───H───T───H───T^-1───H───T^-1───H───T───Z───H───S^-1───H───M('x')───\n",
       "                     │           │           │\n",
       "1: ───────X──────────X───────────X───T───Z───X─────────────────────────────────────────────────────────────────────────────────────────────────────────────────────────────────\n",
       "          │\n",
       "2: ───H───@────────────────────────────────────────────────────────────────────────────────────────────────────────────────────────────────────────────────────────────────────</pre>"
      ],
      "text/plain": [
       "0: ───H───S^-1───H───@───Z───H───@───S───H───@───T───H───T───S───H───T───S───H───T───S───H───T───S───H───T───H───T───H───T^-1───H───T^-1───H───T───Z───H───S^-1───H───M('x')───\n",
       "                     │           │           │\n",
       "1: ───────X──────────X───────────X───T───Z───X─────────────────────────────────────────────────────────────────────────────────────────────────────────────────────────────────\n",
       "          │\n",
       "2: ───H───@────────────────────────────────────────────────────────────────────────────────────────────────────────────────────────────────────────────────────────────────────"
      ]
     },
     "execution_count": 126,
     "metadata": {},
     "output_type": "execute_result"
    }
   ],
   "source": [
    "circuit.append([cirq.measure(first, key='x')])\n",
    "\n",
    "circuit"
   ]
  },
  {
   "cell_type": "markdown",
   "metadata": {},
   "source": [
    "# Wave Function\n",
    "Victor / whoever else "
   ]
  },
  {
   "cell_type": "code",
   "execution_count": 127,
   "metadata": {},
   "outputs": [
    {
     "data": {
      "text/plain": [
       "measurements: (no measurements)\n",
       "output vector: (-0.107-0.184j)|000⟩ + (0.184-0.107j)|001⟩ + (-0.055+0.206j)|010⟩ + (0.206+0.055j)|011⟩ + (-0.258-0.372j)|100⟩ + (0.372-0.258j)|101⟩ + (-0.081+0.445j)|110⟩ + (0.445+0.081j)|111⟩"
      ]
     },
     "execution_count": 127,
     "metadata": {},
     "output_type": "execute_result"
    }
   ],
   "source": [
    "wave_function"
   ]
  },
  {
   "cell_type": "markdown",
   "metadata": {},
   "source": [
    "calculate expected value"
   ]
  },
  {
   "cell_type": "code",
   "execution_count": 128,
   "metadata": {},
   "outputs": [
    {
     "data": {
      "text/plain": [
       "-0.6370238384257774"
      ]
     },
     "execution_count": 128,
     "metadata": {},
     "output_type": "execute_result"
    }
   ],
   "source": [
    "final_state = wave_function.final_state\n",
    "\n",
    "p_qubit0_0 = (sum([np.absolute(i)**2 for i in final_state[0:4]]))\n",
    "p_qubit0_1 = (sum([np.absolute(i)**2 for i in final_state[4:8]]))\n",
    "\n",
    "exp_val_wfn = 1 * p_qubit0_0 + -1 * p_qubit0_1\n",
    "\n",
    "exp_val_wfn"
   ]
  },
  {
   "cell_type": "markdown",
   "metadata": {},
   "source": [
    "# Measured Outcome\n",
    "Akash / whoever else"
   ]
  },
  {
   "cell_type": "code",
   "execution_count": 129,
   "metadata": {},
   "outputs": [],
   "source": [
    "n = 1000000\n",
    "results = simulator.run(circuit, repetitions=n)"
   ]
  },
  {
   "cell_type": "markdown",
   "metadata": {},
   "source": [
    "Create normalized histogram of results"
   ]
  },
  {
   "cell_type": "code",
   "execution_count": 130,
   "metadata": {},
   "outputs": [
    {
     "name": "stdout",
     "output_type": "stream",
     "text": [
      "Counter({1: 0.818458, 0: 0.181542})\n"
     ]
    },
    {
     "data": {
      "image/png": "[encoded data removed]",
      "text/plain": [
       "<Figure size 432x288 with 1 Axes>"
      ]
     },
     "metadata": {
      "needs_background": "light"
     },
     "output_type": "display_data"
    }
   ],
   "source": [
    "hist = results.histogram(key='x')\n",
    "\n",
    "for k in hist:\n",
    "    v = hist[k]\n",
    "    hist[k] = v / n\n",
    "    \n",
    "print(hist)\n",
    "\n",
    "plt.bar(range(len(hist)), hist.values(), align='center')\n",
    "plt.xticks(range(len(hist)), list(hist.keys()))\n",
    "\n",
    "plt.show()"
   ]
  },
  {
   "cell_type": "markdown",
   "metadata": {},
   "source": [
    "calculate expected value"
   ]
  },
  {
   "cell_type": "code",
   "execution_count": 131,
   "metadata": {},
   "outputs": [
    {
     "data": {
      "text/plain": [
       "-0.636916"
      ]
     },
     "execution_count": 131,
     "metadata": {},
     "output_type": "execute_result"
    }
   ],
   "source": [
    "p0 = hist[0]\n",
    "p1 = hist[1]\n",
    "\n",
    "exp_val_meas = 1 * p0 - 1 * p1\n",
    "\n",
    "exp_val_meas"
   ]
  },
  {
   "cell_type": "markdown",
   "metadata": {},
   "source": [
    "# Theoretical Prediction\n",
    "Allen and Henry"
   ]
  },
  {
   "cell_type": "markdown",
   "metadata": {},
   "source": [
    "# Final Results\n",
    "Allan"
   ]
  },
  {
   "cell_type": "code",
   "execution_count": 132,
   "metadata": {},
   "outputs": [
    {
     "ename": "IndentationError",
     "evalue": "unexpected indent (<ipython-input-132-741bcf1e5b15>, line 4)",
     "output_type": "error",
     "traceback": [
      "\u001b[1;36m  File \u001b[1;32m\"<ipython-input-132-741bcf1e5b15>\"\u001b[1;36m, line \u001b[1;32m4\u001b[0m\n\u001b[1;33m    circuit.append([cirq.H(alice), cirq.CNOT(alice, bob)])\u001b[0m\n\u001b[1;37m    ^\u001b[0m\n\u001b[1;31mIndentationError\u001b[0m\u001b[1;31m:\u001b[0m unexpected indent\n"
     ]
    }
   ],
   "source": [
    "# J = 1\n",
    "# https://github.com/quantumlib/Cirq/blob/master/examples/quantum_teleportation.py\n",
    "    # Creates Bell state to be shared between Alice and Bob\n",
    "    circuit.append([cirq.H(alice), cirq.CNOT(alice, bob)])\n",
    "    # Creates a random state for the Message\n",
    "    circuit.append([cirq.X(msg)**ranX, cirq.Y(msg)**ranY])\n",
    "    # Bell measurement of the Message and Alice's entangled qubit\n",
    "    circuit.append([cirq.CNOT(msg, alice), cirq.H(msg)])\n",
    "    circuit.append(cirq.measure(msg, alice))\n",
    "    # Uses the two classical bits from the Bell measurement to recover the\n",
    "    # original quantum Message on Bob's entangled qubit\n",
    "    circuit.append([cirq.CNOT(alice, bob), cirq.CZ(msg, bob)])"
   ]
  },
  {
   "cell_type": "code",
   "execution_count": null,
   "metadata": {},
   "outputs": [],
   "source": []
  }
 ],
 "metadata": {
  "kernelspec": {
   "display_name": "Python 3",
   "language": "python",
   "name": "python3"
  },
  "language_info": {
   "codemirror_mode": {
    "name": "ipython",
    "version": 3
   },
   "file_extension": ".py",
   "mimetype": "text/x-python",
   "name": "python",
   "nbconvert_exporter": "python",
   "pygments_lexer": "ipython3",
   "version": "3.7.1"
  }
 },
 "nbformat": 4,
 "nbformat_minor": 2
}
