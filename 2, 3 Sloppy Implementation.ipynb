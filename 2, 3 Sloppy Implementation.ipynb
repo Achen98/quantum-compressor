{
 "cells": [
  {
   "cell_type": "code",
   "execution_count": 1,
   "metadata": {},
   "outputs": [],
   "source": [
    "import cirq\n",
    "import numpy as np\n",
    "import matplotlib.pyplot as plt \n",
    "\n",
    "from cirq import Circuit\n",
    "from cirq.devices import GridQubit\n",
    "from cirq.google import XmonSimulator\n",
    "from cirq import InsertStrategy\n",
    "from cirq.ops import CNOT, H, S"
   ]
  },
  {
   "cell_type": "markdown",
   "metadata": {},
   "source": [
    "# Messy Compression, Large Circuit Depth for 2 and 3 Qubits\n",
    "\n",
    "## Purpose\n",
    "I'm putting some code here to try and create 2 and 3 Qubit circuits to simulate 4 and 8 Qubit spin-chains. These will get messy since I won't be converting the adiabatic steps into compact circuits, rather, I am simply going to make circuits with the full adiabatic steps and without the $W(J)$ reductions. Based on (Hebenstreit et al.)"
   ]
  },
  {
   "cell_type": "code",
   "execution_count": 2,
   "metadata": {},
   "outputs": [],
   "source": [
    "qubits = cirq.LineQubit.range(3)\n",
    "qubit0, qubit1, qubit2 = qubits\n",
    "\n",
    "qubits2 = cirq.LineQubit.range(5)\n",
    "q0, q1, q2, q3, q4 = qubits2\n",
    "#circuit1 will be the two qubit circuit for quality purposes and circuit2 will be the 3 qubit circuit.\n",
    "circuit1 = cirq.Circuit()\n",
    "circuit2 = cirq.Circuit()"
   ]
  },
  {
   "cell_type": "markdown",
   "metadata": {},
   "source": [
    "## Step 1\n",
    "Prepare input state $\\rho_{i n} = \\frac{1}{2^{m-1}} I^{\\otimes m-1} \\otimes |+_{y} \\rangle \\langle+_{y} |$ for both circuits."
   ]
  },
  {
   "cell_type": "code",
   "execution_count": 3,
   "metadata": {},
   "outputs": [
    {
     "data": {
      "text/html": [
       "<pre style=\"overflow: auto; white-space: pre;\">0: ───H───S^-1───\n",
       "\n",
       "1: ───────X──────\n",
       "          │\n",
       "2: ───H───@──────</pre>"
      ],
      "text/plain": [
       "0: ───H───S^-1───\n",
       "\n",
       "1: ───────X──────\n",
       "          │\n",
       "2: ───H───@──────"
      ]
     },
     "execution_count": 3,
     "metadata": {},
     "output_type": "execute_result"
    }
   ],
   "source": [
    "circuit1.append([cirq.H(qubit0)])\n",
    "circuit1.append([cirq.S(qubit0)**-1])\n",
    "circuit1.append([cirq.H(qubit2)], strategy = InsertStrategy.EARLIEST)\n",
    "circuit1.append([cirq.CNOT(control=qubit2, target=qubit1)], strategy = InsertStrategy.EARLIEST)\n",
    "\n",
    "circuit1"
   ]
  },
  {
   "cell_type": "code",
   "execution_count": 4,
   "metadata": {},
   "outputs": [
    {
     "data": {
      "text/html": [
       "<pre style=\"overflow: auto; white-space: pre;\">0: ───H───X───────────────────\n",
       "          │\n",
       "1: ───H───┼───X───H───X───────\n",
       "          │   │       │\n",
       "2: ───────@───@───H───@───@───\n",
       "                          │\n",
       "3: ───H───S───────────────┼───\n",
       "                          │\n",
       "4: ───H───────────────────X───</pre>"
      ],
      "text/plain": [
       "0: ───H───X───────────────────\n",
       "          │\n",
       "1: ───H───┼───X───H───X───────\n",
       "          │   │       │\n",
       "2: ───────@───@───H───@───@───\n",
       "                          │\n",
       "3: ───H───S───────────────┼───\n",
       "                          │\n",
       "4: ───H───────────────────X───"
      ]
     },
     "execution_count": 4,
     "metadata": {},
     "output_type": "execute_result"
    }
   ],
   "source": [
    "circuit2.append([cirq.H(q0), cirq.H(q1), cirq.H(q3), cirq.H(q4)])\n",
    "circuit2.append([cirq.CNOT(control = q2, target = q0), cirq.S(q3)])\n",
    "circuit2.append([cirq.CNOT(control = q2, target = q1)])\n",
    "circuit2.append([H(q1), H(q2)])\n",
    "circuit2.append([cirq.CNOT(control = q2, target = q1)])\n",
    "circuit2.append([CNOT(control = q2, target = q4)])\n",
    "\n",
    "circuit2"
   ]
  },
  {
   "cell_type": "markdown",
   "metadata": {},
   "source": [
    "For time's sake right now, I'm only going to do the 3 qubit guy..."
   ]
  },
  {
   "cell_type": "code",
   "execution_count": null,
   "metadata": {},
   "outputs": [],
   "source": [
    "#evolution parameters\n",
    "L = 2400\n",
    "dt = 0.1\n",
    "def phase(J, L):\n",
    "    "
   ]
  },
  {
   "cell_type": "code",
   "execution_count": null,
   "metadata": {},
   "outputs": [],
   "source": []
  }
 ],
 "metadata": {
  "kernelspec": {
   "display_name": "Python 3",
   "language": "python",
   "name": "python3"
  },
  "language_info": {
   "codemirror_mode": {
    "name": "ipython",
    "version": 3
   },
   "file_extension": ".py",
   "mimetype": "text/x-python",
   "name": "python",
   "nbconvert_exporter": "python",
   "pygments_lexer": "ipython3",
   "version": "3.6.2"
  }
 },
 "nbformat": 4,
 "nbformat_minor": 2
}
